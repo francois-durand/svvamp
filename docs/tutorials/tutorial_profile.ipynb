{
 "cells": [
  {
   "cell_type": "markdown",
   "metadata": {},
   "source": [
    "# Profile"
   ]
  },
  {
   "cell_type": "code",
   "execution_count": 1,
   "metadata": {
    "ExecuteTime": {
     "end_time": "2021-07-12T07:43:49.902334Z",
     "start_time": "2021-07-12T07:43:48.593939Z"
    }
   },
   "outputs": [],
   "source": [
    "import svvamp"
   ]
  },
  {
   "cell_type": "markdown",
   "metadata": {},
   "source": [
    "Define a random generator of profiles using the Spheroid model (which extends Impartial Culture to utilities), with 9 voters and 5 candidates:"
   ]
  },
  {
   "cell_type": "code",
   "execution_count": 2,
   "metadata": {
    "ExecuteTime": {
     "end_time": "2021-07-12T07:43:49.918222Z",
     "start_time": "2021-07-12T07:43:49.904288Z"
    }
   },
   "outputs": [
    {
     "data": {
      "text/plain": [
       "<svvamp.preferences.generator_profile_spheroid.GeneratorProfileSpheroid at 0x1e38031d470>"
      ]
     },
     "execution_count": 2,
     "metadata": {},
     "output_type": "execute_result"
    }
   ],
   "source": [
    "random_profile = svvamp.GeneratorProfileSpheroid(n_v=9, n_c=5)\n",
    "random_profile"
   ]
  },
  {
   "cell_type": "markdown",
   "metadata": {},
   "source": [
    "Use the generator to create a random profile:"
   ]
  },
  {
   "cell_type": "code",
   "execution_count": 3,
   "metadata": {
    "ExecuteTime": {
     "end_time": "2021-07-12T07:43:49.933178Z",
     "start_time": "2021-07-12T07:43:49.920253Z"
    }
   },
   "outputs": [],
   "source": [
    "profile = random_profile()"
   ]
  },
  {
   "cell_type": "markdown",
   "metadata": {},
   "source": [
    "If you wish, you can give a label to each candidate:"
   ]
  },
  {
   "cell_type": "code",
   "execution_count": 4,
   "metadata": {
    "ExecuteTime": {
     "end_time": "2021-07-12T07:43:49.948145Z",
     "start_time": "2021-07-12T07:43:49.935176Z"
    }
   },
   "outputs": [],
   "source": [
    "profile.labels_candidates = ['Alice', 'Bob', 'Catherine', 'Dave', 'Ellen']"
   ]
  },
  {
   "cell_type": "markdown",
   "metadata": {},
   "source": [
    "Basic information about the profile:"
   ]
  },
  {
   "cell_type": "code",
   "execution_count": 5,
   "metadata": {
    "ExecuteTime": {
     "end_time": "2021-07-12T07:43:50.197408Z",
     "start_time": "2021-07-12T07:43:50.187433Z"
    }
   },
   "outputs": [
    {
     "data": {
      "text/plain": [
       "9"
      ]
     },
     "execution_count": 5,
     "metadata": {},
     "output_type": "execute_result"
    }
   ],
   "source": [
    "profile.n_v"
   ]
  },
  {
   "cell_type": "code",
   "execution_count": 6,
   "metadata": {
    "ExecuteTime": {
     "end_time": "2021-07-12T07:43:50.488702Z",
     "start_time": "2021-07-12T07:43:50.468755Z"
    }
   },
   "outputs": [
    {
     "data": {
      "text/plain": [
       "5"
      ]
     },
     "execution_count": 6,
     "metadata": {},
     "output_type": "execute_result"
    }
   ],
   "source": [
    "profile.n_c"
   ]
  },
  {
   "cell_type": "code",
   "execution_count": 7,
   "metadata": {
    "ExecuteTime": {
     "end_time": "2021-07-12T07:43:50.859467Z",
     "start_time": "2021-07-12T07:43:50.851488Z"
    }
   },
   "outputs": [
    {
     "data": {
      "text/plain": [
       "['Alice', 'Bob', 'Catherine', 'Dave', 'Ellen']"
      ]
     },
     "execution_count": 7,
     "metadata": {},
     "output_type": "execute_result"
    }
   ],
   "source": [
    "profile.labels_candidates"
   ]
  },
  {
   "cell_type": "markdown",
   "metadata": {},
   "source": [
    "Voters' rankings of preference:"
   ]
  },
  {
   "cell_type": "code",
   "execution_count": 8,
   "metadata": {
    "ExecuteTime": {
     "end_time": "2021-07-12T07:43:51.990093Z",
     "start_time": "2021-07-12T07:43:51.972181Z"
    }
   },
   "outputs": [
    {
     "data": {
      "text/plain": [
       "array([[0, 4, 2, 3, 1],\n",
       "       [2, 0, 1, 4, 3],\n",
       "       [2, 1, 4, 0, 3],\n",
       "       [2, 3, 0, 1, 4],\n",
       "       [2, 4, 0, 3, 1],\n",
       "       [3, 0, 4, 2, 1],\n",
       "       [3, 1, 2, 4, 0],\n",
       "       [3, 4, 1, 2, 0],\n",
       "       [4, 1, 2, 3, 0]])"
      ]
     },
     "execution_count": 8,
     "metadata": {},
     "output_type": "execute_result"
    }
   ],
   "source": [
    "profile.preferences_rk"
   ]
  },
  {
   "cell_type": "markdown",
   "metadata": {},
   "source": [
    "Voters' utilities for the candidates:"
   ]
  },
  {
   "cell_type": "code",
   "execution_count": 9,
   "metadata": {
    "ExecuteTime": {
     "end_time": "2021-07-12T07:43:53.185062Z",
     "start_time": "2021-07-12T07:43:53.178081Z"
    }
   },
   "outputs": [
    {
     "data": {
      "text/plain": [
       "array([[ 0.5986278 , -0.52294913,  0.05743889, -0.23139784,  0.55796486],\n",
       "       [ 0.25266412, -0.09173779,  0.74487215, -0.58700637, -0.16832712],\n",
       "       [-0.13284668, -0.05277032,  0.94978469, -0.25281743, -0.11644504],\n",
       "       [ 0.39236433,  0.24198644,  0.76088356,  0.45468837,  0.04251457],\n",
       "       [-0.31162069, -0.60698807,  0.51033826, -0.52059712, -0.05469483],\n",
       "       [ 0.44912545, -0.30559165,  0.27207654,  0.74383623,  0.27853562],\n",
       "       [-0.73838063,  0.02187576, -0.31193004,  0.15373641, -0.57739091],\n",
       "       [-0.49506036, -0.09771709, -0.21359171,  0.83350654, -0.0707958 ],\n",
       "       [-0.71018957,  0.30215382,  0.24165592,  0.23595178,  0.53876063]])"
      ]
     },
     "execution_count": 9,
     "metadata": {},
     "output_type": "execute_result"
    }
   ],
   "source": [
    "profile.preferences_ut"
   ]
  },
  {
   "cell_type": "markdown",
   "metadata": {},
   "source": [
    "Plot the restriction of the population to 3 candidates, for example [0, 2, 3] (Alice, Catherine and Dave), in the utility space:"
   ]
  },
  {
   "cell_type": "code",
   "execution_count": 10,
   "metadata": {
    "ExecuteTime": {
     "end_time": "2021-07-12T07:43:54.632889Z",
     "start_time": "2021-07-12T07:43:54.314227Z"
    }
   },
   "outputs": [
    {
     "data": {
      "image/png": "[encoded data removed]",
      "text/plain": [
       "<Figure size 432x288 with 1 Axes>"
      ]
     },
     "metadata": {
      "needs_background": "light"
     },
     "output_type": "display_data"
    }
   ],
   "source": [
    "profile.plot3(indexes=[0, 2, 3])"
   ]
  },
  {
   "cell_type": "markdown",
   "metadata": {},
   "source": [
    "Plot the restriction of the population to 4 candidates, for example [0, 1, 2, 4] (Alice, Bob, Catherine and Ellen), in the utility space:"
   ]
  },
  {
   "cell_type": "code",
   "execution_count": 11,
   "metadata": {
    "ExecuteTime": {
     "end_time": "2021-07-12T07:44:48.721749Z",
     "start_time": "2021-07-12T07:44:48.563174Z"
    }
   },
   "outputs": [
    {
     "data": {
      "image/png": "[encoded data removed]",
      "text/plain": [
       "<Figure size 432x288 with 1 Axes>"
      ]
     },
     "metadata": {
      "needs_background": "light"
     },
     "output_type": "display_data"
    }
   ],
   "source": [
    "profile.plot4(indexes=[0, 1, 2, 4])"
   ]
  },
  {
   "cell_type": "markdown",
   "metadata": {},
   "source": [
    "Plurality score, Borda score and total utility of each candidate:"
   ]
  },
  {
   "cell_type": "code",
   "execution_count": null,
   "metadata": {},
   "outputs": [],
   "source": [
    "profile.plurality_scores_ut"
   ]
  },
  {
   "cell_type": "code",
   "execution_count": null,
   "metadata": {},
   "outputs": [],
   "source": [
    "profile.borda_score_c_ut"
   ]
  },
  {
   "cell_type": "code",
   "execution_count": null,
   "metadata": {},
   "outputs": [],
   "source": [
    "profile.total_utility_c"
   ]
  },
  {
   "cell_type": "markdown",
   "metadata": {},
   "source": [
    "Matrix of duels (weighted majority graph) and matrix of victories (unweighted majority graph):"
   ]
  },
  {
   "cell_type": "code",
   "execution_count": null,
   "metadata": {},
   "outputs": [],
   "source": [
    "profile.matrix_duels_ut"
   ]
  },
  {
   "cell_type": "code",
   "execution_count": null,
   "metadata": {},
   "outputs": [],
   "source": [
    "profile.matrix_victories_ut_abs"
   ]
  },
  {
   "cell_type": "markdown",
   "metadata": {
    "ExecuteTime": {
     "end_time": "2021-07-12T04:50:36.477149Z",
     "start_time": "2021-07-12T04:50:36.465742Z"
    }
   },
   "source": [
    "Condorcet winner:"
   ]
  },
  {
   "cell_type": "code",
   "execution_count": null,
   "metadata": {},
   "outputs": [],
   "source": [
    "profile.condorcet_winner_ut_abs"
   ]
  },
  {
   "cell_type": "markdown",
   "metadata": {},
   "source": [
    "By convention, if there is no Condorcet winner, then SVVAMP returns nan (not a number)."
   ]
  },
  {
   "cell_type": "code",
   "execution_count": null,
   "metadata": {},
   "outputs": [],
   "source": []
  }
 ],
 "metadata": {
  "kernelspec": {
   "display_name": "Python 3",
   "language": "python",
   "name": "python3"
  },
  "language_info": {
   "codemirror_mode": {
    "name": "ipython",
    "version": 3
   },
   "file_extension": ".py",
   "mimetype": "text/x-python",
   "name": "python",
   "nbconvert_exporter": "python",
   "pygments_lexer": "ipython3",
   "version": "3.7.3"
  },
  "toc": {
   "base_numbering": 1,
   "nav_menu": {},
   "number_sections": false,
   "sideBar": true,
   "skip_h1_title": true,
   "title_cell": "Table of Contents",
   "title_sidebar": "Contents",
   "toc_cell": false,
   "toc_position": {},
   "toc_section_display": true,
   "toc_window_display": false
  }
 },
 "nbformat": 4,
 "nbformat_minor": 4
}
